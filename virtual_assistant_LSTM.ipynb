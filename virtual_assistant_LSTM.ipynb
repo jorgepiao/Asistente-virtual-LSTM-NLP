{
  "cells": [
    {
      "cell_type": "code",
      "execution_count": 1,
      "metadata": {
        "colab": {
          "base_uri": "https://localhost:8080/",
          "height": 206
        },
        "id": "p0VU1Xf0tNaj",
        "outputId": "782d33f1-e1fd-4128-8541-0898f13074a2"
      },
      "outputs": [
        {
          "data": {
            "text/html": [
              "\n",
              "  <div id=\"df-2e8e1472-9f57-4d05-9c87-d1db8d7f990c\">\n",
              "    <div class=\"colab-df-container\">\n",
              "      <div>\n",
              "<style scoped>\n",
              "    .dataframe tbody tr th:only-of-type {\n",
              "        vertical-align: middle;\n",
              "    }\n",
              "\n",
              "    .dataframe tbody tr th {\n",
              "        vertical-align: top;\n",
              "    }\n",
              "\n",
              "    .dataframe thead th {\n",
              "        text-align: right;\n",
              "    }\n",
              "</style>\n",
              "<table border=\"1\" class=\"dataframe\">\n",
              "  <thead>\n",
              "    <tr style=\"text-align: right;\">\n",
              "      <th></th>\n",
              "      <th>Line</th>\n",
              "      <th>Final intent</th>\n",
              "    </tr>\n",
              "  </thead>\n",
              "  <tbody>\n",
              "    <tr>\n",
              "      <th>0</th>\n",
              "      <td>Hi</td>\n",
              "      <td>greetings</td>\n",
              "    </tr>\n",
              "    <tr>\n",
              "      <th>1</th>\n",
              "      <td>Hi. My  name is</td>\n",
              "      <td>greetings</td>\n",
              "    </tr>\n",
              "    <tr>\n",
              "      <th>2</th>\n",
              "      <td>I am facing issues with my credit card</td>\n",
              "      <td>others</td>\n",
              "    </tr>\n",
              "    <tr>\n",
              "      <th>3</th>\n",
              "      <td>please help waive my annual membership</td>\n",
              "      <td>Annual Fee Reversal</td>\n",
              "    </tr>\n",
              "    <tr>\n",
              "      <th>4</th>\n",
              "      <td>please reverse my annual charges</td>\n",
              "      <td>Annual Fee Reversal</td>\n",
              "    </tr>\n",
              "  </tbody>\n",
              "</table>\n",
              "</div>\n",
              "      <button class=\"colab-df-convert\" onclick=\"convertToInteractive('df-2e8e1472-9f57-4d05-9c87-d1db8d7f990c')\"\n",
              "              title=\"Convert this dataframe to an interactive table.\"\n",
              "              style=\"display:none;\">\n",
              "        \n",
              "  <svg xmlns=\"http://www.w3.org/2000/svg\" height=\"24px\"viewBox=\"0 0 24 24\"\n",
              "       width=\"24px\">\n",
              "    <path d=\"M0 0h24v24H0V0z\" fill=\"none\"/>\n",
              "    <path d=\"M18.56 5.44l.94 2.06.94-2.06 2.06-.94-2.06-.94-.94-2.06-.94 2.06-2.06.94zm-11 1L8.5 8.5l.94-2.06 2.06-.94-2.06-.94L8.5 2.5l-.94 2.06-2.06.94zm10 10l.94 2.06.94-2.06 2.06-.94-2.06-.94-.94-2.06-.94 2.06-2.06.94z\"/><path d=\"M17.41 7.96l-1.37-1.37c-.4-.4-.92-.59-1.43-.59-.52 0-1.04.2-1.43.59L10.3 9.45l-7.72 7.72c-.78.78-.78 2.05 0 2.83L4 21.41c.39.39.9.59 1.41.59.51 0 1.02-.2 1.41-.59l7.78-7.78 2.81-2.81c.8-.78.8-2.07 0-2.86zM5.41 20L4 18.59l7.72-7.72 1.47 1.35L5.41 20z\"/>\n",
              "  </svg>\n",
              "      </button>\n",
              "      \n",
              "  <style>\n",
              "    .colab-df-container {\n",
              "      display:flex;\n",
              "      flex-wrap:wrap;\n",
              "      gap: 12px;\n",
              "    }\n",
              "\n",
              "    .colab-df-convert {\n",
              "      background-color: #E8F0FE;\n",
              "      border: none;\n",
              "      border-radius: 50%;\n",
              "      cursor: pointer;\n",
              "      display: none;\n",
              "      fill: #1967D2;\n",
              "      height: 32px;\n",
              "      padding: 0 0 0 0;\n",
              "      width: 32px;\n",
              "    }\n",
              "\n",
              "    .colab-df-convert:hover {\n",
              "      background-color: #E2EBFA;\n",
              "      box-shadow: 0px 1px 2px rgba(60, 64, 67, 0.3), 0px 1px 3px 1px rgba(60, 64, 67, 0.15);\n",
              "      fill: #174EA6;\n",
              "    }\n",
              "\n",
              "    [theme=dark] .colab-df-convert {\n",
              "      background-color: #3B4455;\n",
              "      fill: #D2E3FC;\n",
              "    }\n",
              "\n",
              "    [theme=dark] .colab-df-convert:hover {\n",
              "      background-color: #434B5C;\n",
              "      box-shadow: 0px 1px 3px 1px rgba(0, 0, 0, 0.15);\n",
              "      filter: drop-shadow(0px 1px 2px rgba(0, 0, 0, 0.3));\n",
              "      fill: #FFFFFF;\n",
              "    }\n",
              "  </style>\n",
              "\n",
              "      <script>\n",
              "        const buttonEl =\n",
              "          document.querySelector('#df-2e8e1472-9f57-4d05-9c87-d1db8d7f990c button.colab-df-convert');\n",
              "        buttonEl.style.display =\n",
              "          google.colab.kernel.accessAllowed ? 'block' : 'none';\n",
              "\n",
              "        async function convertToInteractive(key) {\n",
              "          const element = document.querySelector('#df-2e8e1472-9f57-4d05-9c87-d1db8d7f990c');\n",
              "          const dataTable =\n",
              "            await google.colab.kernel.invokeFunction('convertToInteractive',\n",
              "                                                     [key], {});\n",
              "          if (!dataTable) return;\n",
              "\n",
              "          const docLinkHtml = 'Like what you see? Visit the ' +\n",
              "            '<a target=\"_blank\" href=https://colab.research.google.com/notebooks/data_table.ipynb>data table notebook</a>'\n",
              "            + ' to learn more about interactive tables.';\n",
              "          element.innerHTML = '';\n",
              "          dataTable['output_type'] = 'display_data';\n",
              "          await google.colab.output.renderOutput(dataTable, element);\n",
              "          const docLink = document.createElement('div');\n",
              "          docLink.innerHTML = docLinkHtml;\n",
              "          element.appendChild(docLink);\n",
              "        }\n",
              "      </script>\n",
              "    </div>\n",
              "  </div>\n",
              "  "
            ],
            "text/plain": [
              "                                      Line         Final intent\n",
              "0                                       Hi            greetings\n",
              "1                         Hi. My  name is             greetings\n",
              "2   I am facing issues with my credit card               others\n",
              "3  please help waive my annual membership   Annual Fee Reversal\n",
              "4        please reverse my annual charges   Annual Fee Reversal"
            ]
          },
          "execution_count": 1,
          "metadata": {},
          "output_type": "execute_result"
        }
      ],
      "source": [
        "import pandas as pd\n",
        "import numpy as np\n",
        "\n",
        "t1 = pd.read_csv(\"bank4.csv\", encoding = 'latin1')\n",
        "t1.head()"
      ]
    },
    {
      "cell_type": "markdown",
      "metadata": {
        "id": "QKFHJmZXtNan"
      },
      "source": [
        "Para cada intent, tenemos la siguiente respuesta para representar el comienzo del flujo de trabajo. Esto esta en el conjunto de datos fp_qns"
      ]
    },
    {
      "cell_type": "code",
      "execution_count": 2,
      "metadata": {
        "colab": {
          "base_uri": "https://localhost:8080/",
          "height": 206
        },
        "id": "J2fo8aLLtNao",
        "outputId": "0a937ed4-d6cf-4c95-a604-75296af64d8f"
      },
      "outputs": [
        {
          "data": {
            "text/html": [
              "\n",
              "  <div id=\"df-5efdc68b-ca84-485d-93b9-bda79fa6b92d\">\n",
              "    <div class=\"colab-df-container\">\n",
              "      <div>\n",
              "<style scoped>\n",
              "    .dataframe tbody tr th:only-of-type {\n",
              "        vertical-align: middle;\n",
              "    }\n",
              "\n",
              "    .dataframe tbody tr th {\n",
              "        vertical-align: top;\n",
              "    }\n",
              "\n",
              "    .dataframe thead th {\n",
              "        text-align: right;\n",
              "    }\n",
              "</style>\n",
              "<table border=\"1\" class=\"dataframe\">\n",
              "  <thead>\n",
              "    <tr style=\"text-align: right;\">\n",
              "      <th></th>\n",
              "      <th>cat</th>\n",
              "      <th>count</th>\n",
              "      <th>sent</th>\n",
              "    </tr>\n",
              "  </thead>\n",
              "  <tbody>\n",
              "    <tr>\n",
              "      <th>0</th>\n",
              "      <td>greetings</td>\n",
              "      <td>1525</td>\n",
              "      <td>Hi how can I help you</td>\n",
              "    </tr>\n",
              "    <tr>\n",
              "      <th>1</th>\n",
              "      <td>Foreign Travel</td>\n",
              "      <td>700</td>\n",
              "      <td>I understad you want to notify us on your trav...</td>\n",
              "    </tr>\n",
              "    <tr>\n",
              "      <th>2</th>\n",
              "      <td>Card Delivery</td>\n",
              "      <td>600</td>\n",
              "      <td>I will quickly check on your card delivery status</td>\n",
              "    </tr>\n",
              "    <tr>\n",
              "      <th>3</th>\n",
              "      <td>Report Fraud</td>\n",
              "      <td>600</td>\n",
              "      <td>Please contact XXXX-XXXXX for reporting fraud</td>\n",
              "    </tr>\n",
              "    <tr>\n",
              "      <th>4</th>\n",
              "      <td>branch_atm_locator</td>\n",
              "      <td>550</td>\n",
              "      <td>Please provide your address</td>\n",
              "    </tr>\n",
              "  </tbody>\n",
              "</table>\n",
              "</div>\n",
              "      <button class=\"colab-df-convert\" onclick=\"convertToInteractive('df-5efdc68b-ca84-485d-93b9-bda79fa6b92d')\"\n",
              "              title=\"Convert this dataframe to an interactive table.\"\n",
              "              style=\"display:none;\">\n",
              "        \n",
              "  <svg xmlns=\"http://www.w3.org/2000/svg\" height=\"24px\"viewBox=\"0 0 24 24\"\n",
              "       width=\"24px\">\n",
              "    <path d=\"M0 0h24v24H0V0z\" fill=\"none\"/>\n",
              "    <path d=\"M18.56 5.44l.94 2.06.94-2.06 2.06-.94-2.06-.94-.94-2.06-.94 2.06-2.06.94zm-11 1L8.5 8.5l.94-2.06 2.06-.94-2.06-.94L8.5 2.5l-.94 2.06-2.06.94zm10 10l.94 2.06.94-2.06 2.06-.94-2.06-.94-.94-2.06-.94 2.06-2.06.94z\"/><path d=\"M17.41 7.96l-1.37-1.37c-.4-.4-.92-.59-1.43-.59-.52 0-1.04.2-1.43.59L10.3 9.45l-7.72 7.72c-.78.78-.78 2.05 0 2.83L4 21.41c.39.39.9.59 1.41.59.51 0 1.02-.2 1.41-.59l7.78-7.78 2.81-2.81c.8-.78.8-2.07 0-2.86zM5.41 20L4 18.59l7.72-7.72 1.47 1.35L5.41 20z\"/>\n",
              "  </svg>\n",
              "      </button>\n",
              "      \n",
              "  <style>\n",
              "    .colab-df-container {\n",
              "      display:flex;\n",
              "      flex-wrap:wrap;\n",
              "      gap: 12px;\n",
              "    }\n",
              "\n",
              "    .colab-df-convert {\n",
              "      background-color: #E8F0FE;\n",
              "      border: none;\n",
              "      border-radius: 50%;\n",
              "      cursor: pointer;\n",
              "      display: none;\n",
              "      fill: #1967D2;\n",
              "      height: 32px;\n",
              "      padding: 0 0 0 0;\n",
              "      width: 32px;\n",
              "    }\n",
              "\n",
              "    .colab-df-convert:hover {\n",
              "      background-color: #E2EBFA;\n",
              "      box-shadow: 0px 1px 2px rgba(60, 64, 67, 0.3), 0px 1px 3px 1px rgba(60, 64, 67, 0.15);\n",
              "      fill: #174EA6;\n",
              "    }\n",
              "\n",
              "    [theme=dark] .colab-df-convert {\n",
              "      background-color: #3B4455;\n",
              "      fill: #D2E3FC;\n",
              "    }\n",
              "\n",
              "    [theme=dark] .colab-df-convert:hover {\n",
              "      background-color: #434B5C;\n",
              "      box-shadow: 0px 1px 3px 1px rgba(0, 0, 0, 0.15);\n",
              "      filter: drop-shadow(0px 1px 2px rgba(0, 0, 0, 0.3));\n",
              "      fill: #FFFFFF;\n",
              "    }\n",
              "  </style>\n",
              "\n",
              "      <script>\n",
              "        const buttonEl =\n",
              "          document.querySelector('#df-5efdc68b-ca84-485d-93b9-bda79fa6b92d button.colab-df-convert');\n",
              "        buttonEl.style.display =\n",
              "          google.colab.kernel.accessAllowed ? 'block' : 'none';\n",
              "\n",
              "        async function convertToInteractive(key) {\n",
              "          const element = document.querySelector('#df-5efdc68b-ca84-485d-93b9-bda79fa6b92d');\n",
              "          const dataTable =\n",
              "            await google.colab.kernel.invokeFunction('convertToInteractive',\n",
              "                                                     [key], {});\n",
              "          if (!dataTable) return;\n",
              "\n",
              "          const docLinkHtml = 'Like what you see? Visit the ' +\n",
              "            '<a target=\"_blank\" href=https://colab.research.google.com/notebooks/data_table.ipynb>data table notebook</a>'\n",
              "            + ' to learn more about interactive tables.';\n",
              "          element.innerHTML = '';\n",
              "          dataTable['output_type'] = 'display_data';\n",
              "          await google.colab.output.renderOutput(dataTable, element);\n",
              "          const docLink = document.createElement('div');\n",
              "          docLink.innerHTML = docLinkHtml;\n",
              "          element.appendChild(docLink);\n",
              "        }\n",
              "      </script>\n",
              "    </div>\n",
              "  </div>\n",
              "  "
            ],
            "text/plain": [
              "                  cat  count                                               sent\n",
              "0           greetings   1525                              Hi how can I help you\n",
              "1      Foreign Travel    700  I understad you want to notify us on your trav...\n",
              "2       Card Delivery    600  I will quickly check on your card delivery status\n",
              "3        Report Fraud    600      Please contact XXXX-XXXXX for reporting fraud\n",
              "4  branch_atm_locator    550                        Please provide your address"
            ]
          },
          "execution_count": 2,
          "metadata": {},
          "output_type": "execute_result"
        }
      ],
      "source": [
        "# Para cada intencion (intent) tenemos las siguientes respuestas para iniciar el flujo de trabajo\n",
        "\n",
        "fp_qns = pd.read_csv('follow_up_qns_v1.csv')\n",
        "fp_qns.head()"
      ]
    },
    {
      "cell_type": "markdown",
      "metadata": {
        "id": "xGq--wkRtNap"
      },
      "source": [
        "Distribucion de los intents"
      ]
    },
    {
      "cell_type": "code",
      "execution_count": 3,
      "metadata": {
        "colab": {
          "base_uri": "https://localhost:8080/"
        },
        "id": "jcjIIFi3tNaq",
        "outputId": "bd93e797-876e-4147-df1b-f141b9d9a49d"
      },
      "outputs": [
        {
          "data": {
            "text/plain": [
              "greetings               1525\n",
              "Foreign Travel           700\n",
              "Report Fraud             600\n",
              "Card Delivery            600\n",
              "branch_atm_locator       550\n",
              "Track application        450\n",
              "Pin related              400\n",
              "Credit Limit related     400\n",
              "Card Activation          350\n",
              "Blocked Card             350\n",
              "Card Cancellation        350\n",
              "Payment related          300\n",
              "others                   227\n",
              "Annual Fee Reversal      150\n",
              "Statement related        150\n",
              "Name: Final intent, dtype: int64"
            ]
          },
          "execution_count": 3,
          "metadata": {},
          "output_type": "execute_result"
        }
      ],
      "source": [
        "t1[\"Final intent\"].value_counts()"
      ]
    },
    {
      "cell_type": "markdown",
      "metadata": {
        "id": "DEEwenTptNar"
      },
      "source": [
        "Hacer los siguientes reemplazos usando expresiones regulares:\n",
        "\n",
        "1. Reemplazar caracteres especiales como \\r y \\n por un espacio\n",
        "2. Reemplazar los enlaces web por una palabra que indique que son URL. En este caso sera url_pp.\n",
        "3. Reemplazar fechas y numeros de telefono móvil\n",
        "4. Reemplazar porcentajes\n",
        "5. Reemplazar valores monetarios\n",
        "6. Reemplazar los numeros de tarjeta y otp\n",
        "7. Reemplazar cualquier otro numero que no este incluido en el paso 6 por simp_digit_pp\n",
        "8. Dado que se han convertido todos los numeros y caracteres especiales hasta ahora, tratar cualquier caracter que no sea un dígito (excepto el espacio o \"_\") como un espacio"
      ]
    },
    {
      "cell_type": "code",
      "execution_count": 4,
      "metadata": {
        "id": "YWjE_uIktNat"
      },
      "outputs": [],
      "source": [
        "def preproc(newdf):\n",
        "    newdf.loc[:,\"line1\"] =newdf.Line.str.lower()\n",
        "    newdf.loc[:,\"line1\"] = newdf.line1.str.replace(\"inr|rupees\",\"rs\")\n",
        "    newdf.loc[:,\"line1\"] = newdf.line1.str.replace(\"\\r\",\" \")\n",
        "    newdf.loc[:,\"line1\"] = newdf.line1.str.replace(\"\\n\",\" \")\n",
        "    newdf.loc[:,\"line1\"] = newdf.line1.str.replace(\"[\\s]+\",\" \")\n",
        "\n",
        "    newdf.loc[:,\"line1\"] = newdf.line1.str.replace('http[0-9A-Za-z:\\/\\/\\.\\?\\=]*',' url_pp ')\n",
        "    newdf.loc[:,\"line1\"] = newdf.line1.str.replace('[0-9]+\\/[0-9]+\\/[0-9]+',' date_pp ')\n",
        "    newdf.loc[:,\"line1\"] = newdf.line1.str.replace('91[7-9][0-9]{9}', ' mobile_pp ')\n",
        "    newdf.loc[:,\"line1\"] = newdf.line1.str.replace('[7-9][0-9]{9}', ' mobile_pp ')\n",
        "\n",
        "    newdf.loc[:,\"line1\"] = newdf.line1.str.replace('[0-9]+%', ' digits_percent_pp ')\n",
        "    newdf.loc[:,\"line1\"] = newdf.line1.str.replace('[0-9]+percentage', ' digits_percent_pp ')\n",
        "    newdf.loc[:,\"line1\"] = newdf.line1.str.replace('[0-9]+th', ' digits_th_pp ')\n",
        "    newdf.loc[:,\"line1\"] = newdf.line1.str.replace('rs[., ]*[0-9]+[,.]?[0-9]+[,.]?[0-9]+[,.]?[0-9]+[,.]?',' money_digits_pp ')\n",
        "    newdf.loc[:,\"line1\"] = newdf.line1.str.replace('rs[., ]*[0-9]+',' money_digits_small_pp ')\n",
        "\n",
        "    newdf.loc[:,\"line1\"] = newdf.line1.str.replace('[0-9]+[x]+[0-9]*',' cardnum_pp ')\n",
        "    newdf.loc[:,\"line1\"] = newdf.line1.str.replace('[x]+[0-9]+',' cardnum_pp ')\n",
        "    newdf.loc[:,\"line1\"] = newdf.line1.str.replace('[0-9]{4,7}',' simp_digit_otp ')\n",
        "    newdf.loc[:,\"line1\"] = newdf.line1.str.replace('[0-9]+',' simp_digit_pp ')\n",
        "\n",
        "    newdf.loc[:,\"line1\"] = newdf.line1.str.replace(\"a/c\",\" ac_pp \")\n",
        "    newdf.loc[:,\"line1\"] = newdf.line1.str.replace('[^a-z _]',' ')\n",
        "\n",
        "    newdf.loc[:,\"line1\"] = newdf.line1.str.replace('[\\s]+,',\" \")\n",
        "    newdf.loc[:,\"line1\"] = newdf.line1.str.replace('[^A-Za-z_]+', ' ')\n",
        "    \n",
        "    return newdf"
      ]
    },
    {
      "cell_type": "code",
      "execution_count": 5,
      "metadata": {
        "id": "5QE98CqHtNax"
      },
      "outputs": [],
      "source": [
        "t2 = preproc(t1)"
      ]
    },
    {
      "cell_type": "markdown",
      "metadata": {
        "id": "BhfMBxLftNa4"
      },
      "source": [
        "Haremos un muestreo estratificado (stratified sampling) del conjunto de datos de prueba y entrenamiento. El entrenamiento se utiliza para construir el modelo y la prueba para la validacion. El stratified sampling se utiliza para mantener similar la distribucion de los 14 intents en el entrenamiento y en la prueba."
      ]
    },
    {
      "cell_type": "code",
      "execution_count": 6,
      "metadata": {
        "id": "P7PKDJXrtNa6"
      },
      "outputs": [],
      "source": [
        "tgt = t2[\"Final intent\"]\n",
        "\n",
        "from sklearn.model_selection import StratifiedShuffleSplit\n",
        "sss = StratifiedShuffleSplit(test_size=0.1, random_state=42, n_splits=1)\n",
        "\n",
        "for train_index, test_index in sss.split(t2, tgt):\n",
        "    x_train, x_test = t2[t2.index.isin(train_index)], t2[t2.index.isin(test_index)]\n",
        "    y_train, y_test = t2.loc[t2.index.isin(train_index), \"Final intent\"], t2.loc[t2.index.isin(test_index), \"Final intent\"]"
      ]
    },
    {
      "cell_type": "markdown",
      "metadata": {
        "id": "V7OKra15tNbD"
      },
      "source": [
        "Construir el modelo con embedding seguida de LSTM. Prepararemos la entrada (una matriz de 2 dimensiones) N filas, Longitud maxima de palabras en cada oracion. El valor de cada celda es un numero que representa la palabra"
      ]
    },
    {
      "cell_type": "markdown",
      "metadata": {
        "id": "jkC3_AKYtNbE"
      },
      "source": [
        "La funcion get_max_len obtiene la longitud maxima en el corpus. Esto se usa para rellenar las oraciones despues de la tokenización"
      ]
    },
    {
      "cell_type": "code",
      "execution_count": 7,
      "metadata": {
        "id": "Hh-Z-KqxtNbH"
      },
      "outputs": [],
      "source": [
        "def get_max_len(list1):\n",
        "    len_list = [len(i) for i in list1]\n",
        "    return max(len_list)"
      ]
    },
    {
      "cell_type": "markdown",
      "metadata": {
        "id": "rRAlBv02tNbI"
      },
      "source": [
        "Usamos texts_to_sequences y pad_sequences para obtener el valor unico de la palabra en cada fila y luego para completar con \"0\" para que coincida con la longitud maxima de la oracian"
      ]
    },
    {
      "cell_type": "code",
      "execution_count": 8,
      "metadata": {
        "id": "GrsMEwKvtNbJ"
      },
      "outputs": [],
      "source": [
        "from tensorflow.keras.preprocessing.text import Tokenizer\n",
        "from tensorflow.keras.preprocessing.sequence import pad_sequences\n",
        "\n",
        "tokenizer = Tokenizer()\n",
        "\n",
        "def conv_str_cols(col_tr,col_te):\n",
        "    \n",
        "    tokenizer = Tokenizer(num_words=1000)\n",
        "    tokenizer.fit_on_texts(col_tr)\n",
        "    \n",
        "    col_tr1 = tokenizer.texts_to_sequences(col_tr)\n",
        "    col_te1 = tokenizer.texts_to_sequences(col_te)\n",
        "    \n",
        "    max_len1 = get_max_len(col_tr1)\n",
        "    \n",
        "    col_tr2 = pad_sequences(col_tr1, maxlen=max_len1, dtype='int32', padding='post')\n",
        "    col_te2 = pad_sequences(col_te1, maxlen=max_len1, dtype='int32', padding='post')\n",
        "    \n",
        "    return col_tr2,col_te2,tokenizer,max_len1"
      ]
    },
    {
      "cell_type": "code",
      "execution_count": 9,
      "metadata": {
        "id": "fuvqLdMatNbK"
      },
      "outputs": [],
      "source": [
        "tr_padded,te_padded, tokenizer,max_len1 = conv_str_cols(x_train[\"line1\"], x_test[\"line1\"])"
      ]
    },
    {
      "cell_type": "markdown",
      "metadata": {
        "id": "AxZVjvgBtNbL"
      },
      "source": [
        "Tenemos en esta matriz N * L (longitud con relleno)"
      ]
    },
    {
      "cell_type": "code",
      "execution_count": 10,
      "metadata": {
        "colab": {
          "base_uri": "https://localhost:8080/"
        },
        "id": "SV3gbeDetNbM",
        "outputId": "41b277f2-fb48-4e8e-e3b3-c22c14d9dc86"
      },
      "outputs": [
        {
          "data": {
            "text/plain": [
              "((6391, 273), (711, 273))"
            ]
          },
          "execution_count": 10,
          "metadata": {},
          "output_type": "execute_result"
        }
      ],
      "source": [
        "tr_padded.shape, te_padded.shape"
      ]
    },
    {
      "cell_type": "markdown",
      "metadata": {
        "id": "iXaptEeptNbN"
      },
      "source": [
        "Ahora convertimos la variable \"dependiente\" en un formato one-hot para que podamos aplicar un clasificador soft-max al final"
      ]
    },
    {
      "cell_type": "code",
      "execution_count": 11,
      "metadata": {
        "id": "3RYGERVotNbO"
      },
      "outputs": [],
      "source": [
        "from tensorflow.keras.utils import to_categorical\n",
        "from sklearn.preprocessing import LabelEncoder\n",
        "\n",
        "le = LabelEncoder()\n",
        "\n",
        "y_train1 = le.fit_transform(y_train)\n",
        "y_test1 = le.fit_transform(y_test)\n",
        "\n",
        "y_train2 = to_categorical(y_train1)\n",
        "y_test2 = to_categorical(y_test1)"
      ]
    },
    {
      "cell_type": "code",
      "execution_count": 12,
      "metadata": {
        "id": "RPhxm42otNbQ"
      },
      "outputs": [],
      "source": [
        "classes_num = len(y_train.value_counts())"
      ]
    },
    {
      "cell_type": "code",
      "execution_count": 13,
      "metadata": {
        "colab": {
          "base_uri": "https://localhost:8080/"
        },
        "id": "RVXxFTJRtNbS",
        "outputId": "a58478b2-aaab-4e62-8abe-29197a977874"
      },
      "outputs": [
        {
          "data": {
            "text/plain": [
              "array([[0., 0., 0., ..., 0., 1., 0.],\n",
              "       [0., 0., 0., ..., 0., 1., 0.],\n",
              "       [0., 0., 0., ..., 0., 0., 1.],\n",
              "       ...,\n",
              "       [0., 0., 0., ..., 0., 0., 0.],\n",
              "       [0., 0., 0., ..., 0., 0., 0.],\n",
              "       [0., 0., 0., ..., 0., 0., 0.]], dtype=float32)"
            ]
          },
          "execution_count": 13,
          "metadata": {},
          "output_type": "execute_result"
        }
      ],
      "source": [
        "y_train2"
      ]
    },
    {
      "cell_type": "code",
      "execution_count": 14,
      "metadata": {
        "colab": {
          "base_uri": "https://localhost:8080/"
        },
        "id": "RdD2eRuJtNbU",
        "outputId": "2b0330d2-2119-4800-c0d0-9e9948fb6026"
      },
      "outputs": [
        {
          "data": {
            "text/plain": [
              "15"
            ]
          },
          "execution_count": 14,
          "metadata": {},
          "output_type": "execute_result"
        }
      ],
      "source": [
        "classes_num"
      ]
    },
    {
      "cell_type": "code",
      "execution_count": 15,
      "metadata": {
        "id": "AcICrMQ2U1YB"
      },
      "outputs": [],
      "source": [
        "# Guardamos las variables en archivos .pkl para usarlas en la prediccion final \n",
        "import pickle\n",
        "\n",
        "tokenizer_pkl = open('tokenizer.pkl', 'wb')\n",
        "pickle.dump(tokenizer, tokenizer_pkl)\n",
        "\n",
        "y_train_pkl = open('y_train.pkl', 'wb')\n",
        "pickle.dump(y_train, y_train_pkl)\n",
        "\n",
        "y_test_pkl = open('y_test.pkl', 'wb')\n",
        "pickle.dump(y_test, y_test_pkl)\n",
        "\n",
        "fp_qns.to_pickle('fp_qns.pkl')"
      ]
    },
    {
      "cell_type": "markdown",
      "metadata": {
        "id": "4F6N4EP-tNba"
      },
      "source": [
        "Construccion del modelo LSTM "
      ]
    },
    {
      "cell_type": "code",
      "execution_count": 16,
      "metadata": {
        "colab": {
          "base_uri": "https://localhost:8080/"
        },
        "id": "9sr14rUltNba",
        "outputId": "be62362a-ccde-40ec-9a3f-73e3071928db"
      },
      "outputs": [
        {
          "name": "stdout",
          "output_type": "stream",
          "text": [
            "Model: \"sequential\"\n",
            "_________________________________________________________________\n",
            " Layer (type)                Output Shape              Param #   \n",
            "=================================================================\n",
            " embedding (Embedding)       (None, 273, 100)          100000    \n",
            "                                                                 \n",
            " lstm (LSTM)                 (None, 273, 100)          80400     \n",
            "                                                                 \n",
            " lstm_1 (LSTM)               (None, 273, 50)           30200     \n",
            "                                                                 \n",
            " time_distributed (TimeDistr  (None, 273, 50)          2550      \n",
            " ibuted)                                                         \n",
            "                                                                 \n",
            " flatten (Flatten)           (None, 13650)             0         \n",
            "                                                                 \n",
            " dense_1 (Dense)             (None, 15)                204765    \n",
            "                                                                 \n",
            "=================================================================\n",
            "Total params: 417,915\n",
            "Trainable params: 417,915\n",
            "Non-trainable params: 0\n",
            "_________________________________________________________________\n",
            "None\n",
            "Epoch 1/10\n",
            "214/214 - 30s - loss: 1.0980 - accuracy: 0.6342 - 30s/epoch - 139ms/step\n",
            "Epoch 2/10\n",
            "214/214 - 18s - loss: 0.0563 - accuracy: 0.9878 - 18s/epoch - 83ms/step\n",
            "Epoch 3/10\n",
            "214/214 - 17s - loss: 0.0183 - accuracy: 0.9958 - 17s/epoch - 81ms/step\n",
            "Epoch 4/10\n",
            "214/214 - 17s - loss: 0.0129 - accuracy: 0.9967 - 17s/epoch - 81ms/step\n",
            "Epoch 5/10\n",
            "214/214 - 17s - loss: 0.0042 - accuracy: 0.9991 - 17s/epoch - 81ms/step\n",
            "Epoch 6/10\n",
            "214/214 - 17s - loss: 0.0326 - accuracy: 0.9923 - 17s/epoch - 79ms/step\n",
            "Epoch 7/10\n",
            "214/214 - 17s - loss: 0.0025 - accuracy: 0.9992 - 17s/epoch - 79ms/step\n",
            "Epoch 8/10\n",
            "214/214 - 17s - loss: 0.0012 - accuracy: 0.9997 - 17s/epoch - 79ms/step\n",
            "Epoch 9/10\n",
            "214/214 - 17s - loss: 4.3584e-04 - accuracy: 1.0000 - 17s/epoch - 79ms/step\n",
            "Epoch 10/10\n",
            "214/214 - 17s - loss: 1.0449e-04 - accuracy: 1.0000 - 17s/epoch - 79ms/step\n"
          ]
        },
        {
          "data": {
            "text/plain": [
              "<keras.callbacks.History at 0x7eff10080890>"
            ]
          },
          "execution_count": 16,
          "metadata": {},
          "output_type": "execute_result"
        }
      ],
      "source": [
        "from tensorflow.keras.models import Sequential\n",
        "from tensorflow.keras.layers import Dense\n",
        "from tensorflow.keras.layers import Flatten\n",
        "from tensorflow.keras.layers import Embedding\n",
        "from tensorflow.keras.layers import LSTM,Flatten,TimeDistributed\n",
        "\n",
        "model = Sequential()\n",
        "model.add(Embedding(1000, 100, input_length=max_len1))\n",
        "model.add(LSTM(100,return_sequences=True))\n",
        "model.add(LSTM(50,return_sequences=True))\n",
        "\n",
        "model.add(TimeDistributed(Dense(50, activation='relu')))\n",
        "model.add(Flatten())\n",
        "#model.add(Flatten())\n",
        "model.add(Dense(classes_num, activation='softmax'))\n",
        "\n",
        "# compilar el modelo\n",
        "model.compile(optimizer='adam', loss='categorical_crossentropy', metrics=['accuracy'])\n",
        "\n",
        "print(model.summary())\n",
        "\n",
        "# entrenar el modelo\n",
        "model.fit(tr_padded, y_train2, epochs=10, verbose=2,batch_size=30)\n"
      ]
    },
    {
      "cell_type": "code",
      "execution_count": 17,
      "metadata": {
        "id": "0EW6UnIb_r91"
      },
      "outputs": [],
      "source": [
        "# Guardar el modelo\n",
        "model.save('virtual_assistant_LSTM_model.h5')"
      ]
    },
    {
      "cell_type": "code",
      "execution_count": 18,
      "metadata": {
        "id": "BAETrAjhAHwE"
      },
      "outputs": [],
      "source": [
        "# Cargar el modelo y evaluar los datos de validacion\n",
        "from tensorflow.keras.models import load_model\n",
        "\n",
        "model = load_model('virtual_assistant_LSTM_model.h5')"
      ]
    },
    {
      "cell_type": "markdown",
      "metadata": {
        "id": "r4dzSSsjtNbb"
      },
      "source": [
        "Obtenemos la precision con respecto a nuestros de datos de prueba"
      ]
    },
    {
      "cell_type": "code",
      "execution_count": 19,
      "metadata": {
        "colab": {
          "base_uri": "https://localhost:8080/"
        },
        "id": "SQvwaxlatNbc",
        "outputId": "d017eefb-4aab-41db-952a-8de11fbbb00a"
      },
      "outputs": [
        {
          "name": "stdout",
          "output_type": "stream",
          "text": [
            "1.0\n",
            "1.0\n",
            "1.0\n"
          ]
        }
      ],
      "source": [
        "pred_mat = np.argmax(model.predict(te_padded), axis=-1)\n",
        "\n",
        "from sklearn.metrics import accuracy_score\n",
        "from sklearn.metrics import f1_score\n",
        "\n",
        "print (accuracy_score(y_test1, pred_mat))\n",
        "print (f1_score(y_test1, pred_mat,average='micro'))\n",
        "print (f1_score(y_test1, pred_mat,average='macro'))"
      ]
    },
    {
      "cell_type": "code",
      "execution_count": 20,
      "metadata": {
        "colab": {
          "base_uri": "https://localhost:8080/",
          "height": 520
        },
        "id": "BkdTq5qmtNbd",
        "outputId": "cf5114d2-62f7-4f33-ca90-a25a9bf6df32"
      },
      "outputs": [
        {
          "data": {
            "text/html": [
              "\n",
              "  <div id=\"df-76221578-051d-44f4-b4e8-dc9115a9a989\">\n",
              "    <div class=\"colab-df-container\">\n",
              "      <div>\n",
              "<style scoped>\n",
              "    .dataframe tbody tr th:only-of-type {\n",
              "        vertical-align: middle;\n",
              "    }\n",
              "\n",
              "    .dataframe tbody tr th {\n",
              "        vertical-align: top;\n",
              "    }\n",
              "\n",
              "    .dataframe thead th {\n",
              "        text-align: right;\n",
              "    }\n",
              "</style>\n",
              "<table border=\"1\" class=\"dataframe\">\n",
              "  <thead>\n",
              "    <tr style=\"text-align: right;\">\n",
              "      <th></th>\n",
              "      <th>0</th>\n",
              "      <th>1</th>\n",
              "      <th>2</th>\n",
              "      <th>3</th>\n",
              "      <th>4</th>\n",
              "      <th>5</th>\n",
              "      <th>6</th>\n",
              "      <th>7</th>\n",
              "      <th>8</th>\n",
              "      <th>9</th>\n",
              "      <th>10</th>\n",
              "      <th>11</th>\n",
              "      <th>12</th>\n",
              "      <th>13</th>\n",
              "      <th>14</th>\n",
              "    </tr>\n",
              "  </thead>\n",
              "  <tbody>\n",
              "    <tr>\n",
              "      <th>0</th>\n",
              "      <td>15</td>\n",
              "      <td>0</td>\n",
              "      <td>0</td>\n",
              "      <td>0</td>\n",
              "      <td>0</td>\n",
              "      <td>0</td>\n",
              "      <td>0</td>\n",
              "      <td>0</td>\n",
              "      <td>0</td>\n",
              "      <td>0</td>\n",
              "      <td>0</td>\n",
              "      <td>0</td>\n",
              "      <td>0</td>\n",
              "      <td>0</td>\n",
              "      <td>0</td>\n",
              "    </tr>\n",
              "    <tr>\n",
              "      <th>1</th>\n",
              "      <td>0</td>\n",
              "      <td>35</td>\n",
              "      <td>0</td>\n",
              "      <td>0</td>\n",
              "      <td>0</td>\n",
              "      <td>0</td>\n",
              "      <td>0</td>\n",
              "      <td>0</td>\n",
              "      <td>0</td>\n",
              "      <td>0</td>\n",
              "      <td>0</td>\n",
              "      <td>0</td>\n",
              "      <td>0</td>\n",
              "      <td>0</td>\n",
              "      <td>0</td>\n",
              "    </tr>\n",
              "    <tr>\n",
              "      <th>2</th>\n",
              "      <td>0</td>\n",
              "      <td>0</td>\n",
              "      <td>35</td>\n",
              "      <td>0</td>\n",
              "      <td>0</td>\n",
              "      <td>0</td>\n",
              "      <td>0</td>\n",
              "      <td>0</td>\n",
              "      <td>0</td>\n",
              "      <td>0</td>\n",
              "      <td>0</td>\n",
              "      <td>0</td>\n",
              "      <td>0</td>\n",
              "      <td>0</td>\n",
              "      <td>0</td>\n",
              "    </tr>\n",
              "    <tr>\n",
              "      <th>3</th>\n",
              "      <td>0</td>\n",
              "      <td>0</td>\n",
              "      <td>0</td>\n",
              "      <td>35</td>\n",
              "      <td>0</td>\n",
              "      <td>0</td>\n",
              "      <td>0</td>\n",
              "      <td>0</td>\n",
              "      <td>0</td>\n",
              "      <td>0</td>\n",
              "      <td>0</td>\n",
              "      <td>0</td>\n",
              "      <td>0</td>\n",
              "      <td>0</td>\n",
              "      <td>0</td>\n",
              "    </tr>\n",
              "    <tr>\n",
              "      <th>4</th>\n",
              "      <td>0</td>\n",
              "      <td>0</td>\n",
              "      <td>0</td>\n",
              "      <td>0</td>\n",
              "      <td>60</td>\n",
              "      <td>0</td>\n",
              "      <td>0</td>\n",
              "      <td>0</td>\n",
              "      <td>0</td>\n",
              "      <td>0</td>\n",
              "      <td>0</td>\n",
              "      <td>0</td>\n",
              "      <td>0</td>\n",
              "      <td>0</td>\n",
              "      <td>0</td>\n",
              "    </tr>\n",
              "    <tr>\n",
              "      <th>5</th>\n",
              "      <td>0</td>\n",
              "      <td>0</td>\n",
              "      <td>0</td>\n",
              "      <td>0</td>\n",
              "      <td>0</td>\n",
              "      <td>40</td>\n",
              "      <td>0</td>\n",
              "      <td>0</td>\n",
              "      <td>0</td>\n",
              "      <td>0</td>\n",
              "      <td>0</td>\n",
              "      <td>0</td>\n",
              "      <td>0</td>\n",
              "      <td>0</td>\n",
              "      <td>0</td>\n",
              "    </tr>\n",
              "    <tr>\n",
              "      <th>6</th>\n",
              "      <td>0</td>\n",
              "      <td>0</td>\n",
              "      <td>0</td>\n",
              "      <td>0</td>\n",
              "      <td>0</td>\n",
              "      <td>0</td>\n",
              "      <td>70</td>\n",
              "      <td>0</td>\n",
              "      <td>0</td>\n",
              "      <td>0</td>\n",
              "      <td>0</td>\n",
              "      <td>0</td>\n",
              "      <td>0</td>\n",
              "      <td>0</td>\n",
              "      <td>0</td>\n",
              "    </tr>\n",
              "    <tr>\n",
              "      <th>7</th>\n",
              "      <td>0</td>\n",
              "      <td>0</td>\n",
              "      <td>0</td>\n",
              "      <td>0</td>\n",
              "      <td>0</td>\n",
              "      <td>0</td>\n",
              "      <td>0</td>\n",
              "      <td>30</td>\n",
              "      <td>0</td>\n",
              "      <td>0</td>\n",
              "      <td>0</td>\n",
              "      <td>0</td>\n",
              "      <td>0</td>\n",
              "      <td>0</td>\n",
              "      <td>0</td>\n",
              "    </tr>\n",
              "    <tr>\n",
              "      <th>8</th>\n",
              "      <td>0</td>\n",
              "      <td>0</td>\n",
              "      <td>0</td>\n",
              "      <td>0</td>\n",
              "      <td>0</td>\n",
              "      <td>0</td>\n",
              "      <td>0</td>\n",
              "      <td>0</td>\n",
              "      <td>40</td>\n",
              "      <td>0</td>\n",
              "      <td>0</td>\n",
              "      <td>0</td>\n",
              "      <td>0</td>\n",
              "      <td>0</td>\n",
              "      <td>0</td>\n",
              "    </tr>\n",
              "    <tr>\n",
              "      <th>9</th>\n",
              "      <td>0</td>\n",
              "      <td>0</td>\n",
              "      <td>0</td>\n",
              "      <td>0</td>\n",
              "      <td>0</td>\n",
              "      <td>0</td>\n",
              "      <td>0</td>\n",
              "      <td>0</td>\n",
              "      <td>0</td>\n",
              "      <td>60</td>\n",
              "      <td>0</td>\n",
              "      <td>0</td>\n",
              "      <td>0</td>\n",
              "      <td>0</td>\n",
              "      <td>0</td>\n",
              "    </tr>\n",
              "    <tr>\n",
              "      <th>10</th>\n",
              "      <td>0</td>\n",
              "      <td>0</td>\n",
              "      <td>0</td>\n",
              "      <td>0</td>\n",
              "      <td>0</td>\n",
              "      <td>0</td>\n",
              "      <td>0</td>\n",
              "      <td>0</td>\n",
              "      <td>0</td>\n",
              "      <td>0</td>\n",
              "      <td>15</td>\n",
              "      <td>0</td>\n",
              "      <td>0</td>\n",
              "      <td>0</td>\n",
              "      <td>0</td>\n",
              "    </tr>\n",
              "    <tr>\n",
              "      <th>11</th>\n",
              "      <td>0</td>\n",
              "      <td>0</td>\n",
              "      <td>0</td>\n",
              "      <td>0</td>\n",
              "      <td>0</td>\n",
              "      <td>0</td>\n",
              "      <td>0</td>\n",
              "      <td>0</td>\n",
              "      <td>0</td>\n",
              "      <td>0</td>\n",
              "      <td>0</td>\n",
              "      <td>45</td>\n",
              "      <td>0</td>\n",
              "      <td>0</td>\n",
              "      <td>0</td>\n",
              "    </tr>\n",
              "    <tr>\n",
              "      <th>12</th>\n",
              "      <td>0</td>\n",
              "      <td>0</td>\n",
              "      <td>0</td>\n",
              "      <td>0</td>\n",
              "      <td>0</td>\n",
              "      <td>0</td>\n",
              "      <td>0</td>\n",
              "      <td>0</td>\n",
              "      <td>0</td>\n",
              "      <td>0</td>\n",
              "      <td>0</td>\n",
              "      <td>0</td>\n",
              "      <td>55</td>\n",
              "      <td>0</td>\n",
              "      <td>0</td>\n",
              "    </tr>\n",
              "    <tr>\n",
              "      <th>13</th>\n",
              "      <td>0</td>\n",
              "      <td>0</td>\n",
              "      <td>0</td>\n",
              "      <td>0</td>\n",
              "      <td>0</td>\n",
              "      <td>0</td>\n",
              "      <td>0</td>\n",
              "      <td>0</td>\n",
              "      <td>0</td>\n",
              "      <td>0</td>\n",
              "      <td>0</td>\n",
              "      <td>0</td>\n",
              "      <td>0</td>\n",
              "      <td>153</td>\n",
              "      <td>0</td>\n",
              "    </tr>\n",
              "    <tr>\n",
              "      <th>14</th>\n",
              "      <td>0</td>\n",
              "      <td>0</td>\n",
              "      <td>0</td>\n",
              "      <td>0</td>\n",
              "      <td>0</td>\n",
              "      <td>0</td>\n",
              "      <td>0</td>\n",
              "      <td>0</td>\n",
              "      <td>0</td>\n",
              "      <td>0</td>\n",
              "      <td>0</td>\n",
              "      <td>0</td>\n",
              "      <td>0</td>\n",
              "      <td>0</td>\n",
              "      <td>23</td>\n",
              "    </tr>\n",
              "  </tbody>\n",
              "</table>\n",
              "</div>\n",
              "      <button class=\"colab-df-convert\" onclick=\"convertToInteractive('df-76221578-051d-44f4-b4e8-dc9115a9a989')\"\n",
              "              title=\"Convert this dataframe to an interactive table.\"\n",
              "              style=\"display:none;\">\n",
              "        \n",
              "  <svg xmlns=\"http://www.w3.org/2000/svg\" height=\"24px\"viewBox=\"0 0 24 24\"\n",
              "       width=\"24px\">\n",
              "    <path d=\"M0 0h24v24H0V0z\" fill=\"none\"/>\n",
              "    <path d=\"M18.56 5.44l.94 2.06.94-2.06 2.06-.94-2.06-.94-.94-2.06-.94 2.06-2.06.94zm-11 1L8.5 8.5l.94-2.06 2.06-.94-2.06-.94L8.5 2.5l-.94 2.06-2.06.94zm10 10l.94 2.06.94-2.06 2.06-.94-2.06-.94-.94-2.06-.94 2.06-2.06.94z\"/><path d=\"M17.41 7.96l-1.37-1.37c-.4-.4-.92-.59-1.43-.59-.52 0-1.04.2-1.43.59L10.3 9.45l-7.72 7.72c-.78.78-.78 2.05 0 2.83L4 21.41c.39.39.9.59 1.41.59.51 0 1.02-.2 1.41-.59l7.78-7.78 2.81-2.81c.8-.78.8-2.07 0-2.86zM5.41 20L4 18.59l7.72-7.72 1.47 1.35L5.41 20z\"/>\n",
              "  </svg>\n",
              "      </button>\n",
              "      \n",
              "  <style>\n",
              "    .colab-df-container {\n",
              "      display:flex;\n",
              "      flex-wrap:wrap;\n",
              "      gap: 12px;\n",
              "    }\n",
              "\n",
              "    .colab-df-convert {\n",
              "      background-color: #E8F0FE;\n",
              "      border: none;\n",
              "      border-radius: 50%;\n",
              "      cursor: pointer;\n",
              "      display: none;\n",
              "      fill: #1967D2;\n",
              "      height: 32px;\n",
              "      padding: 0 0 0 0;\n",
              "      width: 32px;\n",
              "    }\n",
              "\n",
              "    .colab-df-convert:hover {\n",
              "      background-color: #E2EBFA;\n",
              "      box-shadow: 0px 1px 2px rgba(60, 64, 67, 0.3), 0px 1px 3px 1px rgba(60, 64, 67, 0.15);\n",
              "      fill: #174EA6;\n",
              "    }\n",
              "\n",
              "    [theme=dark] .colab-df-convert {\n",
              "      background-color: #3B4455;\n",
              "      fill: #D2E3FC;\n",
              "    }\n",
              "\n",
              "    [theme=dark] .colab-df-convert:hover {\n",
              "      background-color: #434B5C;\n",
              "      box-shadow: 0px 1px 3px 1px rgba(0, 0, 0, 0.15);\n",
              "      filter: drop-shadow(0px 1px 2px rgba(0, 0, 0, 0.3));\n",
              "      fill: #FFFFFF;\n",
              "    }\n",
              "  </style>\n",
              "\n",
              "      <script>\n",
              "        const buttonEl =\n",
              "          document.querySelector('#df-76221578-051d-44f4-b4e8-dc9115a9a989 button.colab-df-convert');\n",
              "        buttonEl.style.display =\n",
              "          google.colab.kernel.accessAllowed ? 'block' : 'none';\n",
              "\n",
              "        async function convertToInteractive(key) {\n",
              "          const element = document.querySelector('#df-76221578-051d-44f4-b4e8-dc9115a9a989');\n",
              "          const dataTable =\n",
              "            await google.colab.kernel.invokeFunction('convertToInteractive',\n",
              "                                                     [key], {});\n",
              "          if (!dataTable) return;\n",
              "\n",
              "          const docLinkHtml = 'Like what you see? Visit the ' +\n",
              "            '<a target=\"_blank\" href=https://colab.research.google.com/notebooks/data_table.ipynb>data table notebook</a>'\n",
              "            + ' to learn more about interactive tables.';\n",
              "          element.innerHTML = '';\n",
              "          dataTable['output_type'] = 'display_data';\n",
              "          await google.colab.output.renderOutput(dataTable, element);\n",
              "          const docLink = document.createElement('div');\n",
              "          docLink.innerHTML = docLinkHtml;\n",
              "          element.appendChild(docLink);\n",
              "        }\n",
              "      </script>\n",
              "    </div>\n",
              "  </div>\n",
              "  "
            ],
            "text/plain": [
              "    0   1   2   3   4   5   6   7   8   9   10  11  12   13  14\n",
              "0   15   0   0   0   0   0   0   0   0   0   0   0   0    0   0\n",
              "1    0  35   0   0   0   0   0   0   0   0   0   0   0    0   0\n",
              "2    0   0  35   0   0   0   0   0   0   0   0   0   0    0   0\n",
              "3    0   0   0  35   0   0   0   0   0   0   0   0   0    0   0\n",
              "4    0   0   0   0  60   0   0   0   0   0   0   0   0    0   0\n",
              "5    0   0   0   0   0  40   0   0   0   0   0   0   0    0   0\n",
              "6    0   0   0   0   0   0  70   0   0   0   0   0   0    0   0\n",
              "7    0   0   0   0   0   0   0  30   0   0   0   0   0    0   0\n",
              "8    0   0   0   0   0   0   0   0  40   0   0   0   0    0   0\n",
              "9    0   0   0   0   0   0   0   0   0  60   0   0   0    0   0\n",
              "10   0   0   0   0   0   0   0   0   0   0  15   0   0    0   0\n",
              "11   0   0   0   0   0   0   0   0   0   0   0  45   0    0   0\n",
              "12   0   0   0   0   0   0   0   0   0   0   0   0  55    0   0\n",
              "13   0   0   0   0   0   0   0   0   0   0   0   0   0  153   0\n",
              "14   0   0   0   0   0   0   0   0   0   0   0   0   0    0  23"
            ]
          },
          "execution_count": 20,
          "metadata": {},
          "output_type": "execute_result"
        }
      ],
      "source": [
        "from sklearn.metrics import confusion_matrix\n",
        "pd.DataFrame(confusion_matrix(y_test1, pred_mat))"
      ]
    },
    {
      "cell_type": "code",
      "execution_count": 21,
      "metadata": {
        "colab": {
          "base_uri": "https://localhost:8080/"
        },
        "id": "yECGCNJ7tNbe",
        "outputId": "205e0722-64d6-4058-d781-32f3ac760205"
      },
      "outputs": [
        {
          "data": {
            "text/plain": [
              "13    153\n",
              "6      70\n",
              "9      60\n",
              "4      60\n",
              "12     55\n",
              "11     45\n",
              "8      40\n",
              "5      40\n",
              "3      35\n",
              "2      35\n",
              "1      35\n",
              "7      30\n",
              "14     23\n",
              "10     15\n",
              "0      15\n",
              "dtype: int64"
            ]
          },
          "execution_count": 21,
          "metadata": {},
          "output_type": "execute_result"
        }
      ],
      "source": [
        "pd.Series(pred_mat).value_counts()"
      ]
    },
    {
      "cell_type": "markdown",
      "metadata": {
        "id": "B36aJKRFtNbf"
      },
      "source": [
        "Usamos el conjunto de datos \"fp_qns\" para obtener la respuesta correcta para el intent dado. Primero, cuando se ingresa una nueva oracion en el bot, preprocesamos y luego la convertimos en secuencia y la rellenamos para que corresponda con \"maxlen\". Luego, predecimos la respuesta correcta del conjunto de datos \"fp_qns\""
      ]
    },
    {
      "cell_type": "code",
      "execution_count": 22,
      "metadata": {
        "id": "mAP_7wxYtNbf"
      },
      "outputs": [],
      "source": [
        "def pred_new_text(txt1):\n",
        "    print (\"customer_text:\",txt1)\n",
        "    \n",
        "    newdf = pd.DataFrame([txt1])\n",
        "    newdf.columns = [\"Line\"]\n",
        "    newdf1 = preproc(newdf)\n",
        "    \n",
        "    col_te1 = tokenizer.texts_to_sequences(newdf1[\"line1\"])\n",
        "    col_te2 = pad_sequences(col_te1, maxlen=max_len1, dtype='int32', padding='post')\n",
        "\n",
        "    class_pred = le.inverse_transform(np.argmax(model.predict(col_te2), axis=-1))[0]\n",
        "    \n",
        "    try:\n",
        "        resp = fp_qns.loc[fp_qns.cat==class_pred,\"sent\"].values[0]\n",
        "    except:\n",
        "        resp = 'Please contact XXXX-XXXXX'\n",
        "    \n",
        "    print (\"Bot Response:\",resp,\"\\n\")\n",
        "\n",
        "    return "
      ]
    },
    {
      "cell_type": "code",
      "execution_count": 23,
      "metadata": {
        "colab": {
          "base_uri": "https://localhost:8080/"
        },
        "id": "amDH9tgYtNbg",
        "outputId": "2e7b4c57-5e4c-40ca-d779-e2775ba4fbbf"
      },
      "outputs": [
        {
          "name": "stdout",
          "output_type": "stream",
          "text": [
            "customer_text: want to report card lost\n",
            "Bot Response: Please contact XXXX-XXXXX \n",
            "\n",
            "customer_text: good morning\n",
            "Bot Response: Hi how can I help you \n",
            "\n",
            "customer_text: where is atm\n",
            "Bot Response: Please provide your address \n",
            "\n",
            "customer_text: cancel my card\n",
            "Bot Response: Please contact XXXX-XXXXX for cancellation queries \n",
            "\n"
          ]
        }
      ],
      "source": [
        "pred_new_text(\"want to report card lost\")\n",
        "pred_new_text(\"good morning\")\n",
        "pred_new_text(\"where is atm\")\n",
        "pred_new_text(\"cancel my card\")"
      ]
    },
    {
      "cell_type": "code",
      "execution_count": 23,
      "metadata": {
        "id": "OKxw13zzO2HL"
      },
      "outputs": [],
      "source": []
    }
  ],
  "metadata": {
    "accelerator": "GPU",
    "colab": {
      "collapsed_sections": [],
      "name": "virtual_assistant_LSTM.ipynb",
      "provenance": []
    },
    "kernelspec": {
      "display_name": "Python [conda env:Anaconda2-py36]",
      "language": "python",
      "name": "conda-env-Anaconda2-py36-py"
    },
    "language_info": {
      "codemirror_mode": {
        "name": "ipython",
        "version": 3
      },
      "file_extension": ".py",
      "mimetype": "text/x-python",
      "name": "python",
      "nbconvert_exporter": "python",
      "pygments_lexer": "ipython3",
      "version": "3.6.8"
    }
  },
  "nbformat": 4,
  "nbformat_minor": 0
}
